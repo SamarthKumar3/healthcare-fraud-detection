{
 "cells": [
  {
   "cell_type": "code",
   "execution_count": 26,
   "id": "b094a2b1",
   "metadata": {},
   "outputs": [],
   "source": [
    "import pandas as pd\n",
    "\n",
    "\n",
    "train_main = pd.read_csv(\"D:/Web Dev/healthcare-fraud-detection/data/raw/Train.csv\")\n",
    "train_inpatient = pd.read_csv(\"D:/Web Dev/healthcare-fraud-detection/data/raw/Train_Inpatientdata.csv\")\n",
    "train_outpatient = pd.read_csv(\"D:/Web Dev/healthcare-fraud-detection/data/raw/Train_Outpatientdata.csv\")\n",
    "train_beneficiaries = pd.read_csv(\"D:/Web Dev/healthcare-fraud-detection/data/raw/Train_Beneficiarydata.csv\") "
   ]
  },
  {
   "cell_type": "code",
   "execution_count": 3,
   "id": "c56500fb",
   "metadata": {},
   "outputs": [
    {
     "name": "stdout",
     "output_type": "stream",
     "text": [
      "(5410, 2) (40474, 30) (517737, 27) (138556, 25)\n"
     ]
    }
   ],
   "source": [
    "print(train_main.shape, train_inpatient.shape, train_outpatient.shape, train_beneficiaries.shape)"
   ]
  },
  {
   "cell_type": "code",
   "execution_count": 5,
   "id": "bea44be0",
   "metadata": {},
   "outputs": [
    {
     "name": "stdout",
     "output_type": "stream",
     "text": [
      "Index(['Provider', 'PotentialFraud'], dtype='object') Index(['BeneID', 'ClaimID', 'ClaimStartDt', 'ClaimEndDt', 'Provider',\n",
      "       'InscClaimAmtReimbursed', 'AttendingPhysician', 'OperatingPhysician',\n",
      "       'OtherPhysician', 'AdmissionDt', 'ClmAdmitDiagnosisCode',\n",
      "       'DeductibleAmtPaid', 'DischargeDt', 'DiagnosisGroupCode',\n",
      "       'ClmDiagnosisCode_1', 'ClmDiagnosisCode_2', 'ClmDiagnosisCode_3',\n",
      "       'ClmDiagnosisCode_4', 'ClmDiagnosisCode_5', 'ClmDiagnosisCode_6',\n",
      "       'ClmDiagnosisCode_7', 'ClmDiagnosisCode_8', 'ClmDiagnosisCode_9',\n",
      "       'ClmDiagnosisCode_10', 'ClmProcedureCode_1', 'ClmProcedureCode_2',\n",
      "       'ClmProcedureCode_3', 'ClmProcedureCode_4', 'ClmProcedureCode_5',\n",
      "       'ClmProcedureCode_6'],\n",
      "      dtype='object') Index(['BeneID', 'ClaimID', 'ClaimStartDt', 'ClaimEndDt', 'Provider',\n",
      "       'InscClaimAmtReimbursed', 'AttendingPhysician', 'OperatingPhysician',\n",
      "       'OtherPhysician', 'ClmDiagnosisCode_1', 'ClmDiagnosisCode_2',\n",
      "       'ClmDiagnosisCode_3', 'ClmDiagnosisCode_4', 'ClmDiagnosisCode_5',\n",
      "       'ClmDiagnosisCode_6', 'ClmDiagnosisCode_7', 'ClmDiagnosisCode_8',\n",
      "       'ClmDiagnosisCode_9', 'ClmDiagnosisCode_10', 'ClmProcedureCode_1',\n",
      "       'ClmProcedureCode_2', 'ClmProcedureCode_3', 'ClmProcedureCode_4',\n",
      "       'ClmProcedureCode_5', 'ClmProcedureCode_6', 'DeductibleAmtPaid',\n",
      "       'ClmAdmitDiagnosisCode'],\n",
      "      dtype='object') Index(['BeneID', 'DOB', 'DOD', 'Gender', 'Race', 'RenalDiseaseIndicator',\n",
      "       'State', 'County', 'NoOfMonths_PartACov', 'NoOfMonths_PartBCov',\n",
      "       'ChronicCond_Alzheimer', 'ChronicCond_Heartfailure',\n",
      "       'ChronicCond_KidneyDisease', 'ChronicCond_Cancer',\n",
      "       'ChronicCond_ObstrPulmonary', 'ChronicCond_Depression',\n",
      "       'ChronicCond_Diabetes', 'ChronicCond_IschemicHeart',\n",
      "       'ChronicCond_Osteoporasis', 'ChronicCond_rheumatoidarthritis',\n",
      "       'ChronicCond_stroke', 'IPAnnualReimbursementAmt',\n",
      "       'IPAnnualDeductibleAmt', 'OPAnnualReimbursementAmt',\n",
      "       'OPAnnualDeductibleAmt'],\n",
      "      dtype='object')\n"
     ]
    }
   ],
   "source": [
    "print(train_main.columns, train_inpatient.columns, train_outpatient.columns, train_beneficiaries.columns)"
   ]
  },
  {
   "cell_type": "code",
   "execution_count": 6,
   "id": "00883cb6",
   "metadata": {},
   "outputs": [
    {
     "name": "stdout",
     "output_type": "stream",
     "text": [
      "Provider          0\n",
      "PotentialFraud    0\n",
      "dtype: int64\n"
     ]
    }
   ],
   "source": [
    "print(train_main.isnull().sum())"
   ]
  },
  {
   "cell_type": "code",
   "execution_count": 7,
   "id": "f151061d",
   "metadata": {},
   "outputs": [
    {
     "name": "stdout",
     "output_type": "stream",
     "text": [
      "PotentialFraud\n",
      "No     4904\n",
      "Yes     506\n",
      "Name: count, dtype: int64\n"
     ]
    }
   ],
   "source": [
    "print(train_main['PotentialFraud'].value_counts())"
   ]
  },
  {
   "cell_type": "code",
   "execution_count": 12,
   "id": "6d83a479",
   "metadata": {},
   "outputs": [
    {
     "data": {
      "text/plain": [
       "Text(0.5, 1.0, 'Fraud vs Non-Fraud Claims')"
      ]
     },
     "execution_count": 12,
     "metadata": {},
     "output_type": "execute_result"
    },
    {
     "data": {
      "image/png": "[encoded data removed]",
      "text/plain": [
       "<Figure size 640x480 with 1 Axes>"
      ]
     },
     "metadata": {},
     "output_type": "display_data"
    }
   ],
   "source": [
    "import matplotlib.pyplot as plt\n",
    "import seaborn as sns   \n",
    "\n",
    "sns.countplot(data=train_main, x='PotentialFraud')\n",
    "plt.title(\"Fraud vs Non-Fraud Claims\")"
   ]
  },
  {
   "cell_type": "code",
   "execution_count": 17,
   "id": "4b93d451",
   "metadata": {},
   "outputs": [
    {
     "name": "stdout",
     "output_type": "stream",
     "text": [
      "   Provider PotentialFraud\n",
      "0  PRV51001             No\n",
      "1  PRV51003            Yes\n",
      "2  PRV51004             No\n",
      "3  PRV51005            Yes\n",
      "4  PRV51007             No\n"
     ]
    }
   ],
   "source": [
    "# get the first 5 rows of each dataframe\n",
    "print(train_main.head())\n",
    "\n"
   ]
  },
  {
   "cell_type": "code",
   "execution_count": 18,
   "id": "286e3b8c",
   "metadata": {},
   "outputs": [],
   "source": [
    "claims = pd.concat([train_inpatient, train_outpatient], ignore_index=True)"
   ]
  },
  {
   "cell_type": "code",
   "execution_count": 19,
   "id": "cc84de55",
   "metadata": {},
   "outputs": [
    {
     "name": "stdout",
     "output_type": "stream",
     "text": [
      "(558211, 55)\n",
      "      BeneID   ClaimID ClaimStartDt  ClaimEndDt  Provider  \\\n",
      "0  BENE11001  CLM46614   2009-04-12  2009-04-18  PRV55912   \n",
      "1  BENE11001  CLM66048   2009-08-31  2009-09-02  PRV55907   \n",
      "2  BENE11001  CLM68358   2009-09-17  2009-09-20  PRV56046   \n",
      "3  BENE11011  CLM38412   2009-02-14  2009-02-22  PRV52405   \n",
      "4  BENE11014  CLM63689   2009-08-13  2009-08-30  PRV56614   \n",
      "\n",
      "   InscClaimAmtReimbursed AttendingPhysician OperatingPhysician  \\\n",
      "0                   26000          PHY390922                NaN   \n",
      "1                    5000          PHY318495          PHY318495   \n",
      "2                    5000          PHY372395                NaN   \n",
      "3                    5000          PHY369659          PHY392961   \n",
      "4                   10000          PHY379376          PHY398258   \n",
      "\n",
      "  OtherPhysician AdmissionDt  ... ChronicCond_Diabetes  \\\n",
      "0            NaN  2009-04-12  ...                    1   \n",
      "1            NaN  2009-08-31  ...                    1   \n",
      "2      PHY324689  2009-09-17  ...                    1   \n",
      "3      PHY349768  2009-02-14  ...                    1   \n",
      "4            NaN  2009-08-13  ...                    2   \n",
      "\n",
      "   ChronicCond_IschemicHeart ChronicCond_Osteoporasis  \\\n",
      "0                          1                        2   \n",
      "1                          1                        2   \n",
      "2                          1                        2   \n",
      "3                          2                        2   \n",
      "4                          1                        2   \n",
      "\n",
      "  ChronicCond_rheumatoidarthritis ChronicCond_stroke IPAnnualReimbursementAmt  \\\n",
      "0                               1                  1                    36000   \n",
      "1                               1                  1                    36000   \n",
      "2                               1                  1                    36000   \n",
      "3                               1                  1                     5000   \n",
      "4                               2                  2                    21260   \n",
      "\n",
      "  IPAnnualDeductibleAmt OPAnnualReimbursementAmt OPAnnualDeductibleAmt  \\\n",
      "0                  3204                       60                    70   \n",
      "1                  3204                       60                    70   \n",
      "2                  3204                       60                    70   \n",
      "3                  1068                      250                   320   \n",
      "4                  2136                      120                   100   \n",
      "\n",
      "  PotentialFraud  \n",
      "0            Yes  \n",
      "1             No  \n",
      "2             No  \n",
      "3             No  \n",
      "4             No  \n",
      "\n",
      "[5 rows x 55 columns]\n"
     ]
    }
   ],
   "source": [
    "claims_beneficiary = claims.merge(train_beneficiaries, on=\"BeneID\", how=\"left\")\n",
    "full_data = claims_beneficiary.merge(train_main, on=\"Provider\", how=\"left\")\n",
    "print(full_data.shape)\n",
    "print(full_data.head())"
   ]
  },
  {
   "cell_type": "code",
   "execution_count": 27,
   "id": "79f51fb8",
   "metadata": {},
   "outputs": [],
   "source": [
    "# save the merged data to a CSV file\n",
    "full_data.to_csv(\"D:\\Web Dev\\healthcare-fraud-detection\\data\\processed\\Merged_data.csv\", index=False)"
   ]
  },
  {
   "cell_type": "code",
   "execution_count": 28,
   "id": "0ff0b5ec",
   "metadata": {},
   "outputs": [
    {
     "name": "stdout",
     "output_type": "stream",
     "text": [
      "<class 'pandas.core.frame.DataFrame'>\n",
      "RangeIndex: 558211 entries, 0 to 558210\n",
      "Data columns (total 55 columns):\n",
      " #   Column                           Non-Null Count   Dtype  \n",
      "---  ------                           --------------   -----  \n",
      " 0   BeneID                           558211 non-null  object \n",
      " 1   ClaimID                          558211 non-null  object \n",
      " 2   ClaimStartDt                     558211 non-null  object \n",
      " 3   ClaimEndDt                       558211 non-null  object \n",
      " 4   Provider                         558211 non-null  object \n",
      " 5   InscClaimAmtReimbursed           558211 non-null  int64  \n",
      " 6   AttendingPhysician               556703 non-null  object \n",
      " 7   OperatingPhysician               114447 non-null  object \n",
      " 8   OtherPhysician                   199736 non-null  object \n",
      " 9   AdmissionDt                      40474 non-null   object \n",
      " 10  ClmAdmitDiagnosisCode            145899 non-null  object \n",
      " 11  DeductibleAmtPaid                557312 non-null  float64\n",
      " 12  DischargeDt                      40474 non-null   object \n",
      " 13  DiagnosisGroupCode               40474 non-null   object \n",
      " 14  ClmDiagnosisCode_1               547758 non-null  object \n",
      " 15  ClmDiagnosisCode_2               362605 non-null  object \n",
      " 16  ClmDiagnosisCode_3               243055 non-null  object \n",
      " 17  ClmDiagnosisCode_4               164536 non-null  object \n",
      " 18  ClmDiagnosisCode_5               111924 non-null  object \n",
      " 19  ClmDiagnosisCode_6               84392 non-null   object \n",
      " 20  ClmDiagnosisCode_7               66177 non-null   object \n",
      " 21  ClmDiagnosisCode_8               53444 non-null   object \n",
      " 22  ClmDiagnosisCode_9               41815 non-null   object \n",
      " 23  ClmDiagnosisCode_10              5010 non-null    object \n",
      " 24  ClmProcedureCode_1               23310 non-null   float64\n",
      " 25  ClmProcedureCode_2               5490 non-null    float64\n",
      " 26  ClmProcedureCode_3               969 non-null     float64\n",
      " 27  ClmProcedureCode_4               118 non-null     float64\n",
      " 28  ClmProcedureCode_5               9 non-null       float64\n",
      " 29  ClmProcedureCode_6               0 non-null       float64\n",
      " 30  DOB                              558211 non-null  object \n",
      " 31  DOD                              4131 non-null    object \n",
      " 32  Gender                           558211 non-null  int64  \n",
      " 33  Race                             558211 non-null  int64  \n",
      " 34  RenalDiseaseIndicator            558211 non-null  object \n",
      " 35  State                            558211 non-null  int64  \n",
      " 36  County                           558211 non-null  int64  \n",
      " 37  NoOfMonths_PartACov              558211 non-null  int64  \n",
      " 38  NoOfMonths_PartBCov              558211 non-null  int64  \n",
      " 39  ChronicCond_Alzheimer            558211 non-null  int64  \n",
      " 40  ChronicCond_Heartfailure         558211 non-null  int64  \n",
      " 41  ChronicCond_KidneyDisease        558211 non-null  int64  \n",
      " 42  ChronicCond_Cancer               558211 non-null  int64  \n",
      " 43  ChronicCond_ObstrPulmonary       558211 non-null  int64  \n",
      " 44  ChronicCond_Depression           558211 non-null  int64  \n",
      " 45  ChronicCond_Diabetes             558211 non-null  int64  \n",
      " 46  ChronicCond_IschemicHeart        558211 non-null  int64  \n",
      " 47  ChronicCond_Osteoporasis         558211 non-null  int64  \n",
      " 48  ChronicCond_rheumatoidarthritis  558211 non-null  int64  \n",
      " 49  ChronicCond_stroke               558211 non-null  int64  \n",
      " 50  IPAnnualReimbursementAmt         558211 non-null  int64  \n",
      " 51  IPAnnualDeductibleAmt            558211 non-null  int64  \n",
      " 52  OPAnnualReimbursementAmt         558211 non-null  int64  \n",
      " 53  OPAnnualDeductibleAmt            558211 non-null  int64  \n",
      " 54  PotentialFraud                   558211 non-null  object \n",
      "dtypes: float64(7), int64(22), object(26)\n",
      "memory usage: 234.2+ MB\n",
      "None\n",
      "BeneID                                  0\n",
      "ClaimID                                 0\n",
      "ClaimStartDt                            0\n",
      "ClaimEndDt                              0\n",
      "Provider                                0\n",
      "InscClaimAmtReimbursed                  0\n",
      "AttendingPhysician                   1508\n",
      "OperatingPhysician                 443764\n",
      "OtherPhysician                     358475\n",
      "AdmissionDt                        517737\n",
      "ClmAdmitDiagnosisCode              412312\n",
      "DeductibleAmtPaid                     899\n",
      "DischargeDt                        517737\n",
      "DiagnosisGroupCode                 517737\n",
      "ClmDiagnosisCode_1                  10453\n",
      "ClmDiagnosisCode_2                 195606\n",
      "ClmDiagnosisCode_3                 315156\n",
      "ClmDiagnosisCode_4                 393675\n",
      "ClmDiagnosisCode_5                 446287\n",
      "ClmDiagnosisCode_6                 473819\n",
      "ClmDiagnosisCode_7                 492034\n",
      "ClmDiagnosisCode_8                 504767\n",
      "ClmDiagnosisCode_9                 516396\n",
      "ClmDiagnosisCode_10                553201\n",
      "ClmProcedureCode_1                 534901\n",
      "ClmProcedureCode_2                 552721\n",
      "ClmProcedureCode_3                 557242\n",
      "ClmProcedureCode_4                 558093\n",
      "ClmProcedureCode_5                 558202\n",
      "ClmProcedureCode_6                 558211\n",
      "DOB                                     0\n",
      "DOD                                554080\n",
      "Gender                                  0\n",
      "Race                                    0\n",
      "RenalDiseaseIndicator                   0\n",
      "State                                   0\n",
      "County                                  0\n",
      "NoOfMonths_PartACov                     0\n",
      "NoOfMonths_PartBCov                     0\n",
      "ChronicCond_Alzheimer                   0\n",
      "ChronicCond_Heartfailure                0\n",
      "ChronicCond_KidneyDisease               0\n",
      "ChronicCond_Cancer                      0\n",
      "ChronicCond_ObstrPulmonary              0\n",
      "ChronicCond_Depression                  0\n",
      "ChronicCond_Diabetes                    0\n",
      "ChronicCond_IschemicHeart               0\n",
      "ChronicCond_Osteoporasis                0\n",
      "ChronicCond_rheumatoidarthritis         0\n",
      "ChronicCond_stroke                      0\n",
      "IPAnnualReimbursementAmt                0\n",
      "IPAnnualDeductibleAmt                   0\n",
      "OPAnnualReimbursementAmt                0\n",
      "OPAnnualDeductibleAmt                   0\n",
      "PotentialFraud                          0\n",
      "dtype: int64\n",
      "PotentialFraud\n",
      "No     345415\n",
      "Yes    212796\n",
      "Name: count, dtype: int64\n"
     ]
    }
   ],
   "source": [
    "print(full_data.info())\n",
    "print(full_data.isnull().sum())\n",
    "print(full_data['PotentialFraud'].value_counts())"
   ]
  },
  {
   "cell_type": "code",
   "execution_count": 29,
   "id": "221a9df6",
   "metadata": {},
   "outputs": [
    {
     "data": {
      "image/png": "[encoded data removed]",
      "text/plain": [
       "<Figure size 640x480 with 1 Axes>"
      ]
     },
     "metadata": {},
     "output_type": "display_data"
    }
   ],
   "source": [
    "sns.boxplot(x=\"PotentialFraud\", y=\"ClaimEndDt\", data=full_data)\n",
    "plt.xticks(rotation=45)\n",
    "plt.title(\"Distribution of Claim Dates by Fraud Type\")\n",
    "plt.show()"
   ]
  },
  {
   "cell_type": "code",
   "execution_count": 33,
   "id": "9fd2a142",
   "metadata": {},
   "outputs": [
    {
     "data": {
      "text/html": [
       "<div>\n",
       "<style scoped>\n",
       "    .dataframe tbody tr th:only-of-type {\n",
       "        vertical-align: middle;\n",
       "    }\n",
       "\n",
       "    .dataframe tbody tr th {\n",
       "        vertical-align: top;\n",
       "    }\n",
       "\n",
       "    .dataframe thead th {\n",
       "        text-align: right;\n",
       "    }\n",
       "</style>\n",
       "<table border=\"1\" class=\"dataframe\">\n",
       "  <thead>\n",
       "    <tr style=\"text-align: right;\">\n",
       "      <th></th>\n",
       "      <th>Provider</th>\n",
       "      <th>PotentialFraud</th>\n",
       "      <th>ClaimID</th>\n",
       "      <th>InscClaimAmtReimbursed</th>\n",
       "      <th>DeductibleAmtPaid</th>\n",
       "      <th>BeneID</th>\n",
       "    </tr>\n",
       "  </thead>\n",
       "  <tbody>\n",
       "    <tr>\n",
       "      <th>0</th>\n",
       "      <td>PRV51001</td>\n",
       "      <td>No</td>\n",
       "      <td>CLM119495</td>\n",
       "      <td>10</td>\n",
       "      <td>0.0</td>\n",
       "      <td>BENE86784</td>\n",
       "    </tr>\n",
       "    <tr>\n",
       "      <th>1</th>\n",
       "      <td>PRV51001</td>\n",
       "      <td>No</td>\n",
       "      <td>CLM168357</td>\n",
       "      <td>1000</td>\n",
       "      <td>0.0</td>\n",
       "      <td>BENE130029</td>\n",
       "    </tr>\n",
       "    <tr>\n",
       "      <th>2</th>\n",
       "      <td>PRV51001</td>\n",
       "      <td>No</td>\n",
       "      <td>CLM172987</td>\n",
       "      <td>100</td>\n",
       "      <td>0.0</td>\n",
       "      <td>BENE123416</td>\n",
       "    </tr>\n",
       "    <tr>\n",
       "      <th>3</th>\n",
       "      <td>PRV51001</td>\n",
       "      <td>No</td>\n",
       "      <td>CLM180133</td>\n",
       "      <td>1000</td>\n",
       "      <td>0.0</td>\n",
       "      <td>BENE79474</td>\n",
       "    </tr>\n",
       "    <tr>\n",
       "      <th>4</th>\n",
       "      <td>PRV51001</td>\n",
       "      <td>No</td>\n",
       "      <td>CLM260292</td>\n",
       "      <td>60</td>\n",
       "      <td>0.0</td>\n",
       "      <td>BENE61975</td>\n",
       "    </tr>\n",
       "  </tbody>\n",
       "</table>\n",
       "</div>"
      ],
      "text/plain": [
       "   Provider PotentialFraud    ClaimID  InscClaimAmtReimbursed  \\\n",
       "0  PRV51001             No  CLM119495                      10   \n",
       "1  PRV51001             No  CLM168357                    1000   \n",
       "2  PRV51001             No  CLM172987                     100   \n",
       "3  PRV51001             No  CLM180133                    1000   \n",
       "4  PRV51001             No  CLM260292                      60   \n",
       "\n",
       "   DeductibleAmtPaid      BeneID  \n",
       "0                0.0   BENE86784  \n",
       "1                0.0  BENE130029  \n",
       "2                0.0  BENE123416  \n",
       "3                0.0   BENE79474  \n",
       "4                0.0   BENE61975  "
      ]
     },
     "execution_count": 33,
     "metadata": {},
     "output_type": "execute_result"
    }
   ],
   "source": [
    "ipop_grouped = claims.groupby(\"ClaimID\").agg({\n",
    "        \"InscClaimAmtReimbursed\": \"sum\",\n",
    "        \"DeductibleAmtPaid\": \"sum\",\n",
    "        \"Provider\": \"first\",\n",
    "        \"BeneID\": \"first\",\n",
    "    }).reset_index()\n",
    "\n",
    "# ipop_grouped.head()\n",
    "\n",
    "    # Merge with claims\n",
    "merged = train_main.merge(ipop_grouped, on=\"Provider\", how=\"left\")\n",
    "merged.head()\n"
   ]
  },
  {
   "cell_type": "code",
   "execution_count": null,
   "id": "1b8cd74d",
   "metadata": {},
   "outputs": [
    {
     "ename": "NameError",
     "evalue": "name '__file__' is not defined",
     "output_type": "error",
     "traceback": [
      "\u001b[31m---------------------------------------------------------------------------\u001b[39m",
      "\u001b[31mNameError\u001b[39m                                 Traceback (most recent call last)",
      "\u001b[36mCell\u001b[39m\u001b[36m \u001b[39m\u001b[32mIn[35]\u001b[39m\u001b[32m, line 5\u001b[39m\n\u001b[32m      3\u001b[39m \u001b[38;5;28;01mimport\u001b[39;00m\u001b[38;5;250m \u001b[39m\u001b[34;01mos\u001b[39;00m\n\u001b[32m      4\u001b[39m \u001b[38;5;28;01mimport\u001b[39;00m\u001b[38;5;250m \u001b[39m\u001b[34;01msys\u001b[39;00m\n\u001b[32m----> \u001b[39m\u001b[32m5\u001b[39m sys.path.append(os.path.dirname(os.path.dirname(\u001b[34;43m__file__\u001b[39;49m)))\n\u001b[32m      6\u001b[39m \u001b[38;5;28;01mfrom\u001b[39;00m\u001b[38;5;250m \u001b[39m\u001b[34;01mconfig\u001b[39;00m\u001b[38;5;250m \u001b[39m\u001b[38;5;28;01mimport\u001b[39;00m config\n\u001b[32m      9\u001b[39m df = pd.read_csv(os.path.join(config.DATA_PROCESSED_PATH, config.PROCESSED_DATA_FILES[\u001b[33m'\u001b[39m\u001b[33menhanced_data\u001b[39m\u001b[33m'\u001b[39m]))\n",
      "\u001b[31mNameError\u001b[39m: name '__file__' is not defined"
     ]
    }
   ],
   "source": []
  }
 ],
 "metadata": {
  "kernelspec": {
   "display_name": "myenv",
   "language": "python",
   "name": "python3"
  },
  "language_info": {
   "codemirror_mode": {
    "name": "ipython",
    "version": 3
   },
   "file_extension": ".py",
   "mimetype": "text/x-python",
   "name": "python",
   "nbconvert_exporter": "python",
   "pygments_lexer": "ipython3",
   "version": "3.11.8"
  }
 },
 "nbformat": 4,
 "nbformat_minor": 5
}
